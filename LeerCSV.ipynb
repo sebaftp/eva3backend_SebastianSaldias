{
 "cells": [
  {
   "cell_type": "code",
   "execution_count": 16,
   "id": "1fee649e",
   "metadata": {},
   "outputs": [
    {
     "name": "stdout",
     "output_type": "stream",
     "text": [
      "Estadísticas Básicas:\n",
      "        Cliente_ID         Edad         Saldo       Activo  \\\n",
      "count  5000.000000  5000.000000   5000.000000  5000.000000   \n",
      "mean   2500.500000    48.857800  50926.797108     0.493200   \n",
      "std    1443.520003    18.147822  28636.188465     0.500004   \n",
      "min       1.000000    18.000000   1079.450000     0.000000   \n",
      "25%    1250.750000    33.000000  26421.247500     0.000000   \n",
      "50%    2500.500000    49.000000  51106.375000     0.000000   \n",
      "75%    3750.250000    65.000000  75938.525000     1.000000   \n",
      "max    5000.000000    79.000000  99960.220000     1.000000   \n",
      "\n",
      "       Nivel_de_Satisfaccion  \n",
      "count            5000.000000  \n",
      "mean                3.010800  \n",
      "std                 1.404948  \n",
      "min                 1.000000  \n",
      "25%                 2.000000  \n",
      "50%                 3.000000  \n",
      "75%                 4.000000  \n",
      "max                 5.000000  \n",
      "Distribución de Género:\n",
      "Femenino     2510\n",
      "Masculino    2489\n",
      "Name: Genero, dtype: int64\n",
      "Distribución de Satisfacción:\n",
      "4.0    1020\n",
      "2.0    1012\n",
      "3.0    1009\n",
      "5.0     991\n",
      "1.0     968\n",
      "Name: Nivel_de_Satisfaccion, dtype: int64\n"
     ]
    }
   ],
   "source": [
    "import pandas as pd\n",
    "\n",
    "# Carga del CSV\n",
    "df = pd.read_csv(r'C:\\Users\\Sebas\\OneDrive\\Escritorio\\eva3backend\\clientes_banco.csv')\n",
    "df = df.drop_duplicates()\n",
    "df = df.fillna(method='ffill')\n",
    "print(\"Estadísticas Básicas:\")\n",
    "print(df.describe())\n",
    "\n",
    "print(\"Distribución de Género:\")\n",
    "print(df['Genero'].value_counts())\n",
    "\n",
    "print(\"Distribución de Satisfacción:\")\n",
    "print(df['Nivel_de_Satisfaccion'].value_counts())\n"
   ]
  },
  {
   "cell_type": "code",
   "execution_count": null,
   "id": "12215450",
   "metadata": {},
   "outputs": [],
   "source": []
  }
 ],
 "metadata": {
  "kernelspec": {
   "display_name": "Python 3 (ipykernel)",
   "language": "python",
   "name": "python3"
  },
  "language_info": {
   "codemirror_mode": {
    "name": "ipython",
    "version": 3
   },
   "file_extension": ".py",
   "mimetype": "text/x-python",
   "name": "python",
   "nbconvert_exporter": "python",
   "pygments_lexer": "ipython3",
   "version": "3.7.9"
  }
 },
 "nbformat": 4,
 "nbformat_minor": 5
}
