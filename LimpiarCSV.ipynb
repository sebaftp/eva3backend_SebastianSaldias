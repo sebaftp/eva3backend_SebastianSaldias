{
 "cells": [
  {
   "cell_type": "code",
   "execution_count": 3,
   "id": "4ee80a22",
   "metadata": {},
   "outputs": [
    {
     "name": "stdout",
     "output_type": "stream",
     "text": [
      "Limpieza de datos completada. Archivo guardado en: clientes_banco_limpio.csv\n"
     ]
    }
   ],
   "source": [
    "import pandas as pd\n",
    "\n",
    "# Ruta del archivo original y del archivo limpio\n",
    "INPUT_FILE = 'clientes_banco.csv'\n",
    "OUTPUT_FILE = 'clientes_banco_limpio.csv'\n",
    "\n",
    "def limpiar_datos(input_file, output_file):\n",
    "    # Leer el archivo CSV\n",
    "    df = pd.read_csv(input_file)\n",
    "\n",
    "    # Eliminar filas duplicadas\n",
    "    df = df.drop_duplicates(subset='Cliente_ID', keep='first')\n",
    "\n",
    "    # Tratar valores nulos para cada columna\n",
    "    df['Cliente_ID'] = df['Cliente_ID'].fillna(lambda: f\"ID_Desconocido_{pd.util.hash_pandas_object(df.index)}\")\n",
    "    df['Edad'] = df['Edad'].fillna(df['Edad'].median()).astype(int)  # Edad promedio como mediana\n",
    "    df['Genero'] = df['Genero'].fillna(\"No especificado\")\n",
    "    df['Saldo'] = df['Saldo'].fillna(df['Saldo'].mean()).astype(float)\n",
    "    df['Activo'] = df['Activo'].fillna(0).astype(int).astype(bool)  # Rellenar con 0 (falso) y convertir a bool\n",
    "    df['Nivel_de_Satisfaccion'] = df['Nivel_de_Satisfaccion'].fillna(1).astype(int)\n",
    "\n",
    "    # Eliminar filas con valores faltantes en columnas críticas (opcional)\n",
    "    df = df.dropna(subset=['Cliente_ID', 'Edad', 'Saldo'])\n",
    "\n",
    "    # Guardar el archivo limpio\n",
    "    df.to_csv(output_file, index=False)\n",
    "\n",
    "    print(f\"Limpieza de datos completada. Archivo guardado en: {output_file}\")\n",
    "\n",
    "# Llamar a la función de limpieza\n",
    "limpiar_datos(INPUT_FILE, OUTPUT_FILE)\n"
   ]
  },
  {
   "cell_type": "code",
   "execution_count": null,
   "id": "b3dc2be5",
   "metadata": {},
   "outputs": [],
   "source": []
  }
 ],
 "metadata": {
  "kernelspec": {
   "display_name": "Python 3 (ipykernel)",
   "language": "python",
   "name": "python3"
  },
  "language_info": {
   "codemirror_mode": {
    "name": "ipython",
    "version": 3
   },
   "file_extension": ".py",
   "mimetype": "text/x-python",
   "name": "python",
   "nbconvert_exporter": "python",
   "pygments_lexer": "ipython3",
   "version": "3.7.9"
  }
 },
 "nbformat": 4,
 "nbformat_minor": 5
}
